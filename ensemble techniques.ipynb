{
 "cells": [
  {
   "cell_type": "code",
   "execution_count": 1,
   "id": "5792198f",
   "metadata": {},
   "outputs": [],
   "source": [
    "from sklearn.datasets import make_classification\n",
    "x,y=make_classification(n_samples=200,n_features=20,n_classes=2,random_state=1)"
   ]
  },
  {
   "cell_type": "code",
   "execution_count": 2,
   "id": "d40f4264",
   "metadata": {},
   "outputs": [
    {
     "data": {
      "text/plain": [
       "array([[-0.96375439,  0.86834038,  0.04231678, ...,  0.3074892 ,\n",
       "         0.05403696,  0.72846461],\n",
       "       [-0.84391149, -0.71005255,  0.00835916, ..., -0.32674455,\n",
       "         0.01143657,  0.38435935],\n",
       "       [ 0.9297092 ,  1.23166934, -0.92699247, ..., -0.31009478,\n",
       "        -0.27560226, -0.38530291],\n",
       "       ...,\n",
       "       [-0.74447281, -0.05222399, -1.31758204, ...,  0.2898594 ,\n",
       "        -0.25136515, -1.05437504],\n",
       "       [ 0.6662438 , -0.23795342, -0.68284784, ...,  0.31062382,\n",
       "        -0.84519543,  0.91007464],\n",
       "       [ 1.33050612,  1.04143963,  1.65839934, ..., -1.1810629 ,\n",
       "         1.56975551,  0.04805071]])"
      ]
     },
     "execution_count": 2,
     "metadata": {},
     "output_type": "execute_result"
    }
   ],
   "source": [
    "x"
   ]
  },
  {
   "cell_type": "code",
   "execution_count": 3,
   "id": "2c0a17f0",
   "metadata": {},
   "outputs": [
    {
     "data": {
      "text/plain": [
       "array([1, 1, 1, 1, 0, 1, 0, 0, 1, 1, 1, 0, 1, 1, 0, 1, 1, 0, 0, 1, 1, 1,\n",
       "       0, 0, 0, 0, 1, 0, 0, 1, 1, 1, 0, 0, 0, 0, 0, 0, 0, 0, 1, 1, 0, 1,\n",
       "       1, 0, 1, 1, 0, 1, 0, 0, 1, 0, 1, 0, 0, 1, 0, 0, 0, 1, 1, 1, 1, 1,\n",
       "       0, 1, 0, 1, 0, 1, 0, 0, 1, 1, 1, 1, 0, 1, 1, 0, 0, 1, 0, 1, 0, 1,\n",
       "       1, 1, 1, 0, 1, 1, 1, 0, 1, 0, 0, 0, 1, 1, 1, 0, 0, 0, 0, 1, 0, 0,\n",
       "       1, 1, 1, 1, 0, 0, 1, 0, 1, 0, 1, 1, 0, 0, 0, 0, 1, 0, 0, 1, 0, 0,\n",
       "       1, 0, 1, 1, 1, 1, 0, 1, 0, 1, 0, 0, 0, 0, 1, 0, 0, 1, 0, 0, 1, 1,\n",
       "       0, 1, 0, 1, 0, 1, 0, 1, 0, 1, 1, 0, 1, 1, 0, 0, 1, 0, 0, 0, 1, 0,\n",
       "       0, 0, 0, 1, 0, 1, 0, 1, 1, 1, 0, 1, 1, 1, 0, 0, 1, 0, 1, 0, 1, 1,\n",
       "       0, 1])"
      ]
     },
     "execution_count": 3,
     "metadata": {},
     "output_type": "execute_result"
    }
   ],
   "source": [
    "y"
   ]
  },
  {
   "cell_type": "code",
   "execution_count": 4,
   "id": "d275e1ba",
   "metadata": {},
   "outputs": [],
   "source": [
    "from sklearn.model_selection import train_test_split\n",
    "x_train,x_test,y_train,y_test=train_test_split(x,y,test_size=0.2,random_state=20)"
   ]
  },
  {
   "cell_type": "code",
   "execution_count": 5,
   "id": "5e7803eb",
   "metadata": {},
   "outputs": [
    {
     "data": {
      "text/plain": [
       "array([[-0.14259029,  0.53567059, -0.74622428, ...,  0.90626141,\n",
       "         0.38792111, -1.04177028],\n",
       "       [ 0.57640189,  1.28293245, -1.16405656, ..., -0.10602887,\n",
       "        -0.36910331,  1.89128734],\n",
       "       [ 0.7772088 ,  0.94251314, -0.75683724, ...,  0.19574592,\n",
       "        -0.2624677 ,  0.1408873 ],\n",
       "       ...,\n",
       "       [-0.87724686,  0.42059339,  0.11537031, ...,  0.31742716,\n",
       "         0.8925884 , -0.08060699],\n",
       "       [-0.3060365 ,  2.37823962,  0.51031498, ..., -0.25361932,\n",
       "         0.19684576,  0.54311372],\n",
       "       [ 1.1203618 , -0.76433963,  0.34908368, ...,  0.40406811,\n",
       "         0.2863311 ,  1.13514139]])"
      ]
     },
     "execution_count": 5,
     "metadata": {},
     "output_type": "execute_result"
    }
   ],
   "source": [
    "x_train"
   ]
  },
  {
   "cell_type": "code",
   "execution_count": 6,
   "id": "060ae341",
   "metadata": {},
   "outputs": [
    {
     "data": {
      "text/plain": [
       "array([[-2.75481083e-01,  7.56039504e-03, -1.63647401e+00,\n",
       "         1.13905330e+00,  8.74663546e-01, -1.55810522e+00,\n",
       "         8.82799066e-01,  1.34027191e+00,  3.74024890e+00,\n",
       "         9.34395374e-01, -4.84277521e-01,  7.22822683e-01,\n",
       "         1.76424958e+00, -1.68662287e-01,  1.26613344e+00,\n",
       "         2.40755766e+00,  1.49992516e+00, -4.58774976e-01,\n",
       "         2.94739515e-01, -1.08297761e+00],\n",
       "       [ 5.15413802e-01,  6.74570707e-01, -1.40232915e+00,\n",
       "        -1.11487105e+00, -9.33318866e-01, -1.45530515e+00,\n",
       "         1.19783084e+00, -1.95210529e+00, -4.79184915e-01,\n",
       "         1.04008915e+00, -4.18937898e-01, -6.94920901e-01,\n",
       "        -7.67309826e-01,  5.92472801e-01, -1.91118125e+00,\n",
       "        -1.02313519e+00,  1.70459417e+00,  4.51122939e-01,\n",
       "         1.46089238e+00, -9.18440038e-01],\n",
       "       [ 2.88171762e-01, -8.90946538e-01, -3.98753300e-01,\n",
       "         7.86182474e-01,  1.01492474e+00,  8.01280684e-01,\n",
       "         5.34903053e-01, -1.21211498e+00,  7.09205201e-01,\n",
       "         1.22837125e-01,  2.26633332e+00,  8.23631401e-02,\n",
       "         1.12891153e-01, -7.87765090e-01,  1.93792988e+00,\n",
       "         1.49995354e+00,  1.80161671e+00, -4.50770841e-01,\n",
       "         8.83382434e-01, -1.68267113e+00],\n",
       "       [ 1.40109881e-01,  6.40985866e-01, -2.09752935e-01,\n",
       "        -1.41914878e+00, -4.56946006e-01, -2.26244056e-01,\n",
       "        -1.90548298e-01,  1.06898597e+00, -4.56987858e-01,\n",
       "         4.34998324e-01,  9.25501215e-01,  1.81252782e+00,\n",
       "        -3.16901197e-01, -1.13379204e+00, -8.48341548e-01,\n",
       "        -7.42011626e-01,  2.33339126e-01,  9.35147780e-01,\n",
       "         1.21987438e+00,  9.10423603e-01],\n",
       "       [ 8.40861558e-01, -4.97025792e-02, -4.29142278e-01,\n",
       "        -1.02887218e-01, -1.08370855e+00, -1.72239442e+00,\n",
       "         8.08844360e-01,  1.71647264e-02,  3.50167159e-01,\n",
       "         4.51284016e-01, -4.79157099e-01,  1.11570180e+00,\n",
       "         1.14690038e+00,  1.03368687e+00, -2.22499295e+00,\n",
       "        -1.17183919e+00,  1.78975468e+00,  1.20845633e+00,\n",
       "         4.66643267e-01, -1.68405999e+00],\n",
       "       [-1.82921963e+00,  2.90828716e-03, -8.33932729e-02,\n",
       "         2.34436722e-01,  1.63537395e+00,  1.77606117e+00,\n",
       "        -4.63137062e-01, -1.38718052e+00,  9.35191542e-01,\n",
       "         1.47518348e+00, -8.94136968e-01,  1.20809946e+00,\n",
       "        -1.20710467e-01, -1.30189483e+00,  3.20975608e+00,\n",
       "         2.17647802e+00, -2.41663785e-01,  1.17555072e-02,\n",
       "        -8.84105546e-01,  1.11381644e-01],\n",
       "       [ 3.85602292e-01, -1.16444148e-01, -4.07240024e-01,\n",
       "         7.18290736e-01, -5.27370904e-01, -2.33633843e-01,\n",
       "         3.53870427e-01, -5.30119800e-01,  9.32721414e-01,\n",
       "        -1.53236162e-01,  1.99759555e-01, -1.20149976e-01,\n",
       "         1.29118890e+00, -6.96245395e-02, -9.74151937e-01,\n",
       "        -8.69995413e-01, -1.86955017e-01,  1.60564992e-01,\n",
       "        -2.27729800e+00, -2.43250851e+00],\n",
       "       [ 3.41688599e-01, -1.00559722e+00,  8.33888372e-02,\n",
       "        -1.25172665e-01, -9.97028584e-02,  1.64210920e+00,\n",
       "        -2.17071106e+00,  9.28290215e-01,  2.51309632e-01,\n",
       "         9.64888137e-01, -3.00930716e-01,  1.45167891e+00,\n",
       "        -7.75894824e-01,  9.49268086e-01,  1.18775803e-01,\n",
       "        -1.00054664e+00, -6.15491639e-01, -4.24983195e-01,\n",
       "         8.93784105e-01,  2.42430662e+00],\n",
       "       [ 6.16791365e-02, -1.16893959e+00,  3.44320792e-01,\n",
       "        -7.10815287e-01,  7.32915081e-01,  1.58660978e+00,\n",
       "        -3.87050667e-01, -3.76589028e-01,  8.88690140e-01,\n",
       "         5.68697429e-01,  4.87140023e-01, -1.33480329e+00,\n",
       "        -1.25121058e+00,  8.10167603e-01,  1.58053755e+00,\n",
       "         5.83411779e-01, -2.07284809e+00,  1.80605170e-01,\n",
       "         1.09473176e+00,  1.14683073e+00],\n",
       "       [-1.34776494e+00,  1.00806543e+00, -5.16347909e-01,\n",
       "         1.47073986e+00, -1.16919390e+00, -2.26534889e+00,\n",
       "        -1.94504696e+00, -1.46140360e+00, -5.18145552e-01,\n",
       "         1.22515585e+00, -9.52062101e-01, -6.87704631e-02,\n",
       "         3.37220938e-01, -6.64867767e-01, -2.47364006e+00,\n",
       "        -1.06243947e+00, -9.15424368e-01,  3.51116897e-01,\n",
       "         7.85226920e-01, -1.05354607e+00],\n",
       "       [ 6.03035910e-01, -2.03253979e+00,  1.07594938e-01,\n",
       "         3.14431934e-01, -5.76288044e-01,  9.93943071e-01,\n",
       "        -4.02467625e-01, -8.36049480e-01, -3.02967794e-02,\n",
       "         6.38929319e-01,  6.67879561e-01, -3.58588798e-01,\n",
       "         3.33114550e-01,  1.72439172e+00, -8.40079547e-01,\n",
       "        -1.57007870e+00, -1.47689898e+00,  4.26924329e-01,\n",
       "         1.08109299e+00, -4.65659732e-01],\n",
       "       [-3.85988094e-01,  1.63090625e+00, -3.42570942e-01,\n",
       "        -1.74437237e+00, -4.08790789e-01,  8.78631288e-01,\n",
       "        -1.91029171e-01, -1.12545275e+00, -8.60135131e-02,\n",
       "        -5.72601817e-01,  1.40741059e+00,  7.39093836e-01,\n",
       "         7.15536785e-01,  4.32790200e-01, -5.64728150e-01,\n",
       "        -1.19979795e+00, -7.86121270e-01,  1.25673747e+00,\n",
       "         1.64859408e+00, -1.64975030e+00],\n",
       "       [-6.42873595e-01, -1.43206703e+00, -3.12392115e-01,\n",
       "         8.35058365e-01, -8.93720345e-01,  1.79206937e-01,\n",
       "        -1.85892178e-01,  1.30122484e+00, -1.38139115e+00,\n",
       "         1.88553315e-01,  1.89716069e+00,  1.86291309e+00,\n",
       "        -3.63053451e-01,  1.16892637e+00, -1.54754168e+00,\n",
       "        -1.75951426e+00,  5.49421827e-01, -2.71228715e-01,\n",
       "        -1.66019870e-01,  4.68313580e-02],\n",
       "       [-6.17274871e-01,  7.78925829e-01, -4.21101229e-01,\n",
       "         1.49227382e-01, -1.85516977e-01,  2.71937540e+00,\n",
       "         2.96614116e-01,  4.82006190e-01, -3.19257083e-03,\n",
       "         2.14398591e+00,  6.14835772e-01, -9.60920368e-01,\n",
       "        -2.27560294e-01,  9.34021942e-01,  1.60625428e-01,\n",
       "        -1.69507767e+00,  1.85597093e+00, -1.26234688e+00,\n",
       "         6.78163232e-01, -4.91391006e-01],\n",
       "       [ 4.90761382e-01,  8.61596237e-01,  9.63936924e-01,\n",
       "         4.93649237e-01, -6.24674328e-01, -1.97912791e+00,\n",
       "        -1.09750980e+00, -7.92863735e-01, -1.13127121e+00,\n",
       "         9.90986171e-01,  7.42341574e-01, -1.20289001e+00,\n",
       "        -1.18541750e-01,  1.86481534e+00, -1.45972874e+00,\n",
       "        -1.86460505e-01,  9.07922087e-01, -1.93112262e-01,\n",
       "        -1.04233925e-01,  1.26686656e+00],\n",
       "       [-2.32602884e-01,  5.69751291e-01, -1.04499819e+00,\n",
       "         8.02936667e-01,  4.97572986e-01, -1.53227250e+00,\n",
       "        -2.01549801e+00,  1.63888893e+00, -1.69334871e+00,\n",
       "        -3.00615128e-01,  7.67113096e-01,  3.80672178e-01,\n",
       "         1.50925417e-01,  1.47200161e+00,  6.04230484e-01,\n",
       "         1.68984123e+00,  3.64094247e-01, -3.35054058e-01,\n",
       "         7.49734237e-02, -9.59032617e-01],\n",
       "       [-7.88148419e-01,  1.37442468e+00, -6.44226320e-01,\n",
       "        -3.98811876e-01,  7.62074423e-01,  1.15756500e+00,\n",
       "        -1.86252444e-01,  6.88969785e-01, -5.42537367e-01,\n",
       "        -1.47886969e-01, -4.05274031e-02,  2.80810295e-01,\n",
       "         3.12513592e-01, -1.23854851e-01,  1.55500022e+00,\n",
       "         8.50643592e-01, -1.75340691e+00,  3.54042504e-01,\n",
       "        -6.40502456e-01,  7.51920881e-01],\n",
       "       [-5.09668741e-01, -1.30195903e+00, -1.30341932e-01,\n",
       "         4.23773430e-01,  1.27376399e+00,  2.25181288e+00,\n",
       "         1.13348255e-01,  1.91206875e+00,  7.29443074e-01,\n",
       "        -3.73020192e-01,  4.18361917e-01, -4.51755942e-01,\n",
       "        -1.11496750e+00, -1.96307507e+00,  2.65604597e+00,\n",
       "         1.26462718e+00, -3.24742264e-01,  1.27980017e+00,\n",
       "         9.63193097e-01, -1.33230529e+00],\n",
       "       [ 1.13180071e-02,  1.79232299e+00,  1.70798618e+00,\n",
       "         1.69101002e+00,  5.27576487e-01,  1.24338014e+00,\n",
       "        -1.15608593e+00,  7.26048399e-03,  1.98653920e+00,\n",
       "        -2.06823104e-01, -4.54927843e-01,  7.54816734e-01,\n",
       "        -4.65186347e-01,  7.62744821e-03,  1.15591950e+00,\n",
       "         3.69740797e-01, -3.45511516e-02, -1.00476461e+00,\n",
       "        -5.88646098e-01, -1.10938582e+00],\n",
       "       [ 1.60432394e+00,  9.51381812e-01,  5.54252540e-01,\n",
       "        -2.66490561e-01,  1.29724668e-01,  1.60190436e+00,\n",
       "         8.39534223e-01,  4.76783178e-03, -3.62645919e-01,\n",
       "         1.85675354e-01, -7.57451033e-01,  2.51859703e-01,\n",
       "        -1.45833594e+00,  1.87288694e-01,  5.17088124e-01,\n",
       "        -5.51736027e-01, -6.55616687e-01,  1.46532073e-01,\n",
       "         1.83586955e+00,  6.37025319e-01],\n",
       "       [ 1.58708252e+00,  9.79424986e-01,  5.46569103e-01,\n",
       "         6.66381056e-01,  6.74786090e-01,  1.11510195e-01,\n",
       "         9.78327543e-01,  1.74067506e+00, -4.12994338e-01,\n",
       "         2.77126501e-01, -1.25254239e-01,  8.32351815e-01,\n",
       "        -7.25980055e-01,  7.76819284e-01,  1.21278257e+00,\n",
       "         1.20611342e+00, -2.21968900e-01, -5.85135280e-01,\n",
       "        -1.53753484e+00,  1.50280307e-01],\n",
       "       [ 2.91004542e-01, -5.78325717e-01, -8.03072666e-01,\n",
       "         1.07489975e+00,  3.13721842e-01,  1.59205646e+00,\n",
       "         1.63327621e+00, -1.13730441e+00, -1.81175371e+00,\n",
       "        -6.23279994e-01, -1.68067447e+00, -1.82575352e-02,\n",
       "        -6.97809900e-01,  7.84904647e-01,  8.40551642e-01,\n",
       "        -2.02901106e-01,  2.58742494e-01,  1.31494079e+00,\n",
       "        -8.47452538e-01, -5.20361027e-01],\n",
       "       [-1.46111949e+00, -7.31458159e-01,  1.85394511e+00,\n",
       "        -3.88973582e-01,  7.11558428e-01,  7.64085267e-01,\n",
       "        -9.09647359e-02,  1.88496533e+00,  5.21394201e-03,\n",
       "         6.00032239e-01,  5.75987942e-02, -7.98515317e-01,\n",
       "        -1.27753022e-01, -5.50144229e-01,  1.39501843e+00,\n",
       "         9.51302166e-01, -1.90271680e+00, -1.19939580e+00,\n",
       "         3.11874897e-01, -1.01013865e+00],\n",
       "       [-2.18102797e+00,  1.09318364e-01, -4.64114906e-01,\n",
       "         6.02265128e-01, -5.76752634e-01, -3.92627034e-01,\n",
       "         5.86618519e-01,  2.56545278e+00,  1.94175016e-01,\n",
       "         1.59446463e+00,  1.32269399e+00,  1.45651817e-01,\n",
       "         4.80846113e-01, -1.54656104e+00, -1.09000254e+00,\n",
       "        -8.83476505e-01,  1.17517869e+00, -2.02693908e-01,\n",
       "        -1.54439578e+00, -8.95441524e-01],\n",
       "       [ 5.52973535e-02, -1.27481611e-01,  1.20731703e+00,\n",
       "         4.05817117e-01,  8.82044375e-01,  1.31930265e+00,\n",
       "         3.79216099e-01, -3.02431461e-01,  5.49022708e-01,\n",
       "        -1.13691382e+00,  5.68754796e-01,  6.36283930e-01,\n",
       "         1.24845728e+00, -7.35250460e-01,  1.79611536e+00,\n",
       "         9.94716962e-01, -1.27466182e+00,  1.37766662e+00,\n",
       "         6.99435667e-01,  2.08848180e+00],\n",
       "       [ 1.55868825e+00, -8.70801553e-01, -8.55671392e-01,\n",
       "         2.36973019e+00, -6.89500209e-01, -7.13980202e-01,\n",
       "        -1.98782953e+00, -2.40700502e-01, -1.47958003e+00,\n",
       "         6.27177035e-01,  1.44484150e-02,  4.83883649e-01,\n",
       "         1.56241953e+00,  1.11989900e+00, -1.34702687e+00,\n",
       "        -9.34910400e-01,  8.61288515e-01, -2.04820046e+00,\n",
       "         1.17524499e+00,  1.62808250e-01],\n",
       "       [ 1.33050612e+00,  1.04143963e+00,  1.65839934e+00,\n",
       "        -1.00897684e-02, -2.03243306e-01,  9.53160279e-01,\n",
       "        -1.12299083e-01, -4.25070976e-01, -1.69230255e+00,\n",
       "        -7.45644050e-01,  6.33508871e-01,  7.38053685e-01,\n",
       "         9.88510642e-01, -3.67832201e-01, -1.88013803e-01,\n",
       "        -8.52512921e-01,  8.04122851e-01, -1.18106290e+00,\n",
       "         1.56975551e+00,  4.80507067e-02],\n",
       "       [-9.20210997e-02,  9.14073014e-01, -1.00108837e-01,\n",
       "        -6.50555288e-01,  1.55587802e+00,  1.81413748e-01,\n",
       "         3.97866017e-01, -1.43220509e+00, -2.64063160e-01,\n",
       "        -2.05564329e+00,  6.20391415e-01, -8.04692326e-01,\n",
       "         5.81937685e-02,  2.52631353e-01,  2.78275582e+00,\n",
       "         2.81851032e+00, -3.03545272e-01, -9.11963791e-01,\n",
       "        -1.51724173e+00, -8.90918169e-01],\n",
       "       [ 5.38264819e-01,  3.35378673e-02,  5.99902042e-01,\n",
       "         3.74533657e-01,  3.94174761e-01,  2.79747275e+00,\n",
       "         4.46674362e-01, -1.32151338e+00,  9.94435002e-01,\n",
       "         1.90952869e+00, -7.77175322e-01,  5.08945073e-01,\n",
       "        -7.46817241e-01, -1.84599833e-01,  1.19931685e+00,\n",
       "        -6.50161091e-01,  1.64874780e+00, -6.78348067e-01,\n",
       "         1.22022248e+00,  1.55468947e+00],\n",
       "       [ 1.29354962e+00, -6.79383783e-01, -7.25214926e-01,\n",
       "        -4.38997664e-01, -1.12434079e-01,  1.16753632e+00,\n",
       "        -4.58666861e-02,  3.21265914e-01,  4.00084198e-03,\n",
       "         1.53920701e+00,  5.31163793e-01, -3.75008758e-04,\n",
       "         5.90039464e-01, -7.04350332e-01,  1.10135970e-02,\n",
       "        -7.89049164e-01, -2.18733459e-01,  1.53653633e+00,\n",
       "        -9.50909251e-01, -1.14870423e+00],\n",
       "       [ 1.74054466e-01,  8.63263399e-01,  4.68462049e-02,\n",
       "         1.77945558e-01, -9.19862066e-01, -1.59601349e+00,\n",
       "         5.05053752e-01,  2.23472174e+00, -1.85810857e-01,\n",
       "        -1.22387965e+00, -1.78773771e+00, -4.38054507e-01,\n",
       "        -2.61201919e-01, -1.30195208e-01, -1.91267376e+00,\n",
       "        -9.28215806e-01, -2.67004179e-01,  2.90787946e-01,\n",
       "        -9.23077957e-01,  5.58264219e-01],\n",
       "       [ 1.40061789e+00, -1.20410135e+00, -1.88116833e-01,\n",
       "        -1.50017688e+00, -7.76300431e-01,  4.80828296e-01,\n",
       "        -8.41569338e-01,  1.86074517e-01,  1.37884868e-01,\n",
       "         6.45152653e-01,  8.57547554e-01,  1.33514133e+00,\n",
       "         1.38878875e-01,  5.85952787e-01, -1.28580343e+00,\n",
       "        -1.68956304e+00, -3.15335745e+00, -2.74739573e-03,\n",
       "        -1.33569545e+00,  1.28214183e+00],\n",
       "       [ 1.16430865e+00,  1.83359763e-01,  1.45387975e-01,\n",
       "        -4.72613126e-01,  1.37255898e+00, -8.09430981e-03,\n",
       "         7.00099518e-01, -8.24904519e-01, -5.75952196e-01,\n",
       "         1.04823056e+00,  3.24868552e-01,  1.03641701e+00,\n",
       "        -1.63348696e+00,  8.22297070e-01,  2.42467603e+00,\n",
       "         2.56978507e+00, -1.05060936e+00, -3.93142159e-01,\n",
       "        -6.68895500e-01,  1.39227734e+00],\n",
       "       [ 1.13533923e+00,  6.59418807e-01, -1.94309941e+00,\n",
       "        -1.27277564e+00, -3.52482535e-02, -1.51542823e-01,\n",
       "         1.59413738e+00,  1.20412753e+00,  4.48700357e-01,\n",
       "        -1.81944884e+00, -2.04115418e+00,  9.52182127e-01,\n",
       "        -9.87620713e-01, -5.21316431e-01, -8.95298394e-02,\n",
       "         9.24516220e-03,  2.97799038e-01, -1.56492877e+00,\n",
       "        -2.43023732e-01,  2.53313906e-01],\n",
       "       [ 1.00819561e+00,  2.00514053e+00, -1.32648965e+00,\n",
       "        -3.01603199e+00, -4.11642643e-01,  6.48865305e-01,\n",
       "         1.16533544e+00, -2.51852197e-01, -2.19552167e-01,\n",
       "        -6.32590142e-01,  8.05913307e-01,  1.11548937e+00,\n",
       "        -1.61964569e+00, -1.48941229e-01, -6.11047276e-01,\n",
       "        -1.09120952e+00,  1.96645295e-01,  3.08204134e-01,\n",
       "        -1.87626349e-01, -2.09846949e-01],\n",
       "       [ 3.29489967e-01, -2.82005902e-01, -6.06303023e-02,\n",
       "        -2.92578935e-01, -6.70443628e-01,  3.73835553e-01,\n",
       "        -1.20115566e+00, -2.90545028e-03,  5.37705087e-01,\n",
       "        -3.12603014e-01, -3.48471140e-01,  4.40956001e-01,\n",
       "         8.15600360e-01,  2.19477494e-01, -1.11791292e+00,\n",
       "        -1.43863355e+00, -2.99094967e-01,  9.64022632e-01,\n",
       "         4.99224881e-02,  1.01203086e-01],\n",
       "       [-1.83589904e+00, -8.01947083e-01, -6.72742530e-01,\n",
       "         3.39025130e-01,  4.16830548e-01,  1.09316760e+00,\n",
       "        -8.49966868e-01, -7.00641160e-02,  7.96530799e-01,\n",
       "        -1.43389573e+00, -4.23949751e-01, -1.45669029e+00,\n",
       "        -1.77632334e+00,  3.31694064e-01,  9.33179221e-01,\n",
       "         2.37195965e-01, -1.49904287e-02,  9.44154072e-02,\n",
       "         9.98670589e-01, -1.13919031e+00],\n",
       "       [ 5.78024944e-01,  1.05000344e+00, -5.12067582e-01,\n",
       "        -2.84635153e-01,  3.92371929e-01,  3.02830588e+00,\n",
       "        -2.26675359e-01, -1.76600124e-01,  1.02803357e-01,\n",
       "        -1.55909516e+00,  1.42777673e-01, -1.41096597e+00,\n",
       "         1.13126487e+00, -7.76809392e-01,  1.23760008e+00,\n",
       "        -7.67979789e-01, -7.30212823e-01, -1.63950213e-01,\n",
       "         1.39301575e+00, -6.70202969e-01],\n",
       "       [ 1.59763696e+00,  1.15818685e+00,  1.32201378e+00,\n",
       "         5.73653344e-01, -8.79050574e-01, -3.12336264e+00,\n",
       "        -1.16646415e+00, -1.32965782e-01,  1.05357392e-01,\n",
       "         1.03624278e+00,  8.91175301e-02, -1.40149619e+00,\n",
       "         6.30641673e-01,  1.43913540e+00, -2.11492871e+00,\n",
       "        -9.46556166e-02, -9.82738970e-01, -1.91223829e+00,\n",
       "        -2.01835505e+00, -1.15571595e+00],\n",
       "       [-1.68169918e+00,  2.02466590e+00,  2.02257577e+00,\n",
       "        -6.69835351e-01,  6.29447783e-01,  1.55832222e+00,\n",
       "         4.60828984e-01,  8.15925508e-01,  2.12908787e-01,\n",
       "         2.25255306e+00,  1.01822316e+00,  1.37907689e-01,\n",
       "         1.56172007e+00, -5.21998699e-02,  1.39256719e+00,\n",
       "         4.04021947e-01,  2.97026599e-01, -4.43571881e-01,\n",
       "         1.67179115e-01, -1.01040995e+00]])"
      ]
     },
     "execution_count": 6,
     "metadata": {},
     "output_type": "execute_result"
    }
   ],
   "source": [
    "x_test"
   ]
  },
  {
   "cell_type": "code",
   "execution_count": 7,
   "id": "87d2cede",
   "metadata": {},
   "outputs": [],
   "source": [
    "from sklearn.tree import DecisionTreeClassifier\n",
    "from sklearn.naive_bayes import GaussianNB\n",
    "from sklearn.linear_model import LogisticRegression\n",
    "from sklearn.svm import SVC"
   ]
  },
  {
   "cell_type": "code",
   "execution_count": 8,
   "id": "790ea2ad",
   "metadata": {},
   "outputs": [],
   "source": [
    "dt=DecisionTreeClassifier()\n",
    "gnb=GaussianNB()\n",
    "lr=LogisticRegression()\n",
    "svm=SVC()"
   ]
  },
  {
   "cell_type": "code",
   "execution_count": 9,
   "id": "f1eb4c17",
   "metadata": {},
   "outputs": [],
   "source": [
    "from sklearn.ensemble import VotingClassifier"
   ]
  },
  {
   "cell_type": "code",
   "execution_count": 10,
   "id": "725672b9",
   "metadata": {},
   "outputs": [],
   "source": [
    "enseble_clf=VotingClassifier(estimators=[(\"decision tree\",dt),(\"GaussianNB\",gnb),(\"LogisticRegression\",lr),(\"SVC\",svm)])"
   ]
  },
  {
   "cell_type": "code",
   "execution_count": 11,
   "id": "88ad2aa0",
   "metadata": {},
   "outputs": [
    {
     "data": {
      "text/html": [
       "<style>#sk-container-id-1 {color: black;}#sk-container-id-1 pre{padding: 0;}#sk-container-id-1 div.sk-toggleable {background-color: white;}#sk-container-id-1 label.sk-toggleable__label {cursor: pointer;display: block;width: 100%;margin-bottom: 0;padding: 0.3em;box-sizing: border-box;text-align: center;}#sk-container-id-1 label.sk-toggleable__label-arrow:before {content: \"▸\";float: left;margin-right: 0.25em;color: #696969;}#sk-container-id-1 label.sk-toggleable__label-arrow:hover:before {color: black;}#sk-container-id-1 div.sk-estimator:hover label.sk-toggleable__label-arrow:before {color: black;}#sk-container-id-1 div.sk-toggleable__content {max-height: 0;max-width: 0;overflow: hidden;text-align: left;background-color: #f0f8ff;}#sk-container-id-1 div.sk-toggleable__content pre {margin: 0.2em;color: black;border-radius: 0.25em;background-color: #f0f8ff;}#sk-container-id-1 input.sk-toggleable__control:checked~div.sk-toggleable__content {max-height: 200px;max-width: 100%;overflow: auto;}#sk-container-id-1 input.sk-toggleable__control:checked~label.sk-toggleable__label-arrow:before {content: \"▾\";}#sk-container-id-1 div.sk-estimator input.sk-toggleable__control:checked~label.sk-toggleable__label {background-color: #d4ebff;}#sk-container-id-1 div.sk-label input.sk-toggleable__control:checked~label.sk-toggleable__label {background-color: #d4ebff;}#sk-container-id-1 input.sk-hidden--visually {border: 0;clip: rect(1px 1px 1px 1px);clip: rect(1px, 1px, 1px, 1px);height: 1px;margin: -1px;overflow: hidden;padding: 0;position: absolute;width: 1px;}#sk-container-id-1 div.sk-estimator {font-family: monospace;background-color: #f0f8ff;border: 1px dotted black;border-radius: 0.25em;box-sizing: border-box;margin-bottom: 0.5em;}#sk-container-id-1 div.sk-estimator:hover {background-color: #d4ebff;}#sk-container-id-1 div.sk-parallel-item::after {content: \"\";width: 100%;border-bottom: 1px solid gray;flex-grow: 1;}#sk-container-id-1 div.sk-label:hover label.sk-toggleable__label {background-color: #d4ebff;}#sk-container-id-1 div.sk-serial::before {content: \"\";position: absolute;border-left: 1px solid gray;box-sizing: border-box;top: 0;bottom: 0;left: 50%;z-index: 0;}#sk-container-id-1 div.sk-serial {display: flex;flex-direction: column;align-items: center;background-color: white;padding-right: 0.2em;padding-left: 0.2em;position: relative;}#sk-container-id-1 div.sk-item {position: relative;z-index: 1;}#sk-container-id-1 div.sk-parallel {display: flex;align-items: stretch;justify-content: center;background-color: white;position: relative;}#sk-container-id-1 div.sk-item::before, #sk-container-id-1 div.sk-parallel-item::before {content: \"\";position: absolute;border-left: 1px solid gray;box-sizing: border-box;top: 0;bottom: 0;left: 50%;z-index: -1;}#sk-container-id-1 div.sk-parallel-item {display: flex;flex-direction: column;z-index: 1;position: relative;background-color: white;}#sk-container-id-1 div.sk-parallel-item:first-child::after {align-self: flex-end;width: 50%;}#sk-container-id-1 div.sk-parallel-item:last-child::after {align-self: flex-start;width: 50%;}#sk-container-id-1 div.sk-parallel-item:only-child::after {width: 0;}#sk-container-id-1 div.sk-dashed-wrapped {border: 1px dashed gray;margin: 0 0.4em 0.5em 0.4em;box-sizing: border-box;padding-bottom: 0.4em;background-color: white;}#sk-container-id-1 div.sk-label label {font-family: monospace;font-weight: bold;display: inline-block;line-height: 1.2em;}#sk-container-id-1 div.sk-label-container {text-align: center;}#sk-container-id-1 div.sk-container {/* jupyter's `normalize.less` sets `[hidden] { display: none; }` but bootstrap.min.css set `[hidden] { display: none !important; }` so we also need the `!important` here to be able to override the default hidden behavior on the sphinx rendered scikit-learn.org. See: https://github.com/scikit-learn/scikit-learn/issues/21755 */display: inline-block !important;position: relative;}#sk-container-id-1 div.sk-text-repr-fallback {display: none;}</style><div id=\"sk-container-id-1\" class=\"sk-top-container\"><div class=\"sk-text-repr-fallback\"><pre>VotingClassifier(estimators=[(&#x27;decision tree&#x27;, DecisionTreeClassifier()),\n",
       "                             (&#x27;GaussianNB&#x27;, GaussianNB()),\n",
       "                             (&#x27;LogisticRegression&#x27;, LogisticRegression()),\n",
       "                             (&#x27;SVC&#x27;, SVC())])</pre><b>In a Jupyter environment, please rerun this cell to show the HTML representation or trust the notebook. <br />On GitHub, the HTML representation is unable to render, please try loading this page with nbviewer.org.</b></div><div class=\"sk-container\" hidden><div class=\"sk-item sk-dashed-wrapped\"><div class=\"sk-label-container\"><div class=\"sk-label sk-toggleable\"><input class=\"sk-toggleable__control sk-hidden--visually\" id=\"sk-estimator-id-1\" type=\"checkbox\" ><label for=\"sk-estimator-id-1\" class=\"sk-toggleable__label sk-toggleable__label-arrow\">VotingClassifier</label><div class=\"sk-toggleable__content\"><pre>VotingClassifier(estimators=[(&#x27;decision tree&#x27;, DecisionTreeClassifier()),\n",
       "                             (&#x27;GaussianNB&#x27;, GaussianNB()),\n",
       "                             (&#x27;LogisticRegression&#x27;, LogisticRegression()),\n",
       "                             (&#x27;SVC&#x27;, SVC())])</pre></div></div></div><div class=\"sk-parallel\"><div class=\"sk-parallel-item\"><div class=\"sk-item\"><div class=\"sk-label-container\"><div class=\"sk-label sk-toggleable\"><label>decision tree</label></div></div><div class=\"sk-serial\"><div class=\"sk-item\"><div class=\"sk-estimator sk-toggleable\"><input class=\"sk-toggleable__control sk-hidden--visually\" id=\"sk-estimator-id-2\" type=\"checkbox\" ><label for=\"sk-estimator-id-2\" class=\"sk-toggleable__label sk-toggleable__label-arrow\">DecisionTreeClassifier</label><div class=\"sk-toggleable__content\"><pre>DecisionTreeClassifier()</pre></div></div></div></div></div></div><div class=\"sk-parallel-item\"><div class=\"sk-item\"><div class=\"sk-label-container\"><div class=\"sk-label sk-toggleable\"><label>GaussianNB</label></div></div><div class=\"sk-serial\"><div class=\"sk-item\"><div class=\"sk-estimator sk-toggleable\"><input class=\"sk-toggleable__control sk-hidden--visually\" id=\"sk-estimator-id-3\" type=\"checkbox\" ><label for=\"sk-estimator-id-3\" class=\"sk-toggleable__label sk-toggleable__label-arrow\">GaussianNB</label><div class=\"sk-toggleable__content\"><pre>GaussianNB()</pre></div></div></div></div></div></div><div class=\"sk-parallel-item\"><div class=\"sk-item\"><div class=\"sk-label-container\"><div class=\"sk-label sk-toggleable\"><label>LogisticRegression</label></div></div><div class=\"sk-serial\"><div class=\"sk-item\"><div class=\"sk-estimator sk-toggleable\"><input class=\"sk-toggleable__control sk-hidden--visually\" id=\"sk-estimator-id-4\" type=\"checkbox\" ><label for=\"sk-estimator-id-4\" class=\"sk-toggleable__label sk-toggleable__label-arrow\">LogisticRegression</label><div class=\"sk-toggleable__content\"><pre>LogisticRegression()</pre></div></div></div></div></div></div><div class=\"sk-parallel-item\"><div class=\"sk-item\"><div class=\"sk-label-container\"><div class=\"sk-label sk-toggleable\"><label>SVC</label></div></div><div class=\"sk-serial\"><div class=\"sk-item\"><div class=\"sk-estimator sk-toggleable\"><input class=\"sk-toggleable__control sk-hidden--visually\" id=\"sk-estimator-id-5\" type=\"checkbox\" ><label for=\"sk-estimator-id-5\" class=\"sk-toggleable__label sk-toggleable__label-arrow\">SVC</label><div class=\"sk-toggleable__content\"><pre>SVC()</pre></div></div></div></div></div></div></div></div></div></div>"
      ],
      "text/plain": [
       "VotingClassifier(estimators=[('decision tree', DecisionTreeClassifier()),\n",
       "                             ('GaussianNB', GaussianNB()),\n",
       "                             ('LogisticRegression', LogisticRegression()),\n",
       "                             ('SVC', SVC())])"
      ]
     },
     "execution_count": 11,
     "metadata": {},
     "output_type": "execute_result"
    }
   ],
   "source": [
    "enseble_clf"
   ]
  },
  {
   "cell_type": "code",
   "execution_count": 12,
   "id": "30690d45",
   "metadata": {},
   "outputs": [
    {
     "data": {
      "text/html": [
       "<style>#sk-container-id-2 {color: black;}#sk-container-id-2 pre{padding: 0;}#sk-container-id-2 div.sk-toggleable {background-color: white;}#sk-container-id-2 label.sk-toggleable__label {cursor: pointer;display: block;width: 100%;margin-bottom: 0;padding: 0.3em;box-sizing: border-box;text-align: center;}#sk-container-id-2 label.sk-toggleable__label-arrow:before {content: \"▸\";float: left;margin-right: 0.25em;color: #696969;}#sk-container-id-2 label.sk-toggleable__label-arrow:hover:before {color: black;}#sk-container-id-2 div.sk-estimator:hover label.sk-toggleable__label-arrow:before {color: black;}#sk-container-id-2 div.sk-toggleable__content {max-height: 0;max-width: 0;overflow: hidden;text-align: left;background-color: #f0f8ff;}#sk-container-id-2 div.sk-toggleable__content pre {margin: 0.2em;color: black;border-radius: 0.25em;background-color: #f0f8ff;}#sk-container-id-2 input.sk-toggleable__control:checked~div.sk-toggleable__content {max-height: 200px;max-width: 100%;overflow: auto;}#sk-container-id-2 input.sk-toggleable__control:checked~label.sk-toggleable__label-arrow:before {content: \"▾\";}#sk-container-id-2 div.sk-estimator input.sk-toggleable__control:checked~label.sk-toggleable__label {background-color: #d4ebff;}#sk-container-id-2 div.sk-label input.sk-toggleable__control:checked~label.sk-toggleable__label {background-color: #d4ebff;}#sk-container-id-2 input.sk-hidden--visually {border: 0;clip: rect(1px 1px 1px 1px);clip: rect(1px, 1px, 1px, 1px);height: 1px;margin: -1px;overflow: hidden;padding: 0;position: absolute;width: 1px;}#sk-container-id-2 div.sk-estimator {font-family: monospace;background-color: #f0f8ff;border: 1px dotted black;border-radius: 0.25em;box-sizing: border-box;margin-bottom: 0.5em;}#sk-container-id-2 div.sk-estimator:hover {background-color: #d4ebff;}#sk-container-id-2 div.sk-parallel-item::after {content: \"\";width: 100%;border-bottom: 1px solid gray;flex-grow: 1;}#sk-container-id-2 div.sk-label:hover label.sk-toggleable__label {background-color: #d4ebff;}#sk-container-id-2 div.sk-serial::before {content: \"\";position: absolute;border-left: 1px solid gray;box-sizing: border-box;top: 0;bottom: 0;left: 50%;z-index: 0;}#sk-container-id-2 div.sk-serial {display: flex;flex-direction: column;align-items: center;background-color: white;padding-right: 0.2em;padding-left: 0.2em;position: relative;}#sk-container-id-2 div.sk-item {position: relative;z-index: 1;}#sk-container-id-2 div.sk-parallel {display: flex;align-items: stretch;justify-content: center;background-color: white;position: relative;}#sk-container-id-2 div.sk-item::before, #sk-container-id-2 div.sk-parallel-item::before {content: \"\";position: absolute;border-left: 1px solid gray;box-sizing: border-box;top: 0;bottom: 0;left: 50%;z-index: -1;}#sk-container-id-2 div.sk-parallel-item {display: flex;flex-direction: column;z-index: 1;position: relative;background-color: white;}#sk-container-id-2 div.sk-parallel-item:first-child::after {align-self: flex-end;width: 50%;}#sk-container-id-2 div.sk-parallel-item:last-child::after {align-self: flex-start;width: 50%;}#sk-container-id-2 div.sk-parallel-item:only-child::after {width: 0;}#sk-container-id-2 div.sk-dashed-wrapped {border: 1px dashed gray;margin: 0 0.4em 0.5em 0.4em;box-sizing: border-box;padding-bottom: 0.4em;background-color: white;}#sk-container-id-2 div.sk-label label {font-family: monospace;font-weight: bold;display: inline-block;line-height: 1.2em;}#sk-container-id-2 div.sk-label-container {text-align: center;}#sk-container-id-2 div.sk-container {/* jupyter's `normalize.less` sets `[hidden] { display: none; }` but bootstrap.min.css set `[hidden] { display: none !important; }` so we also need the `!important` here to be able to override the default hidden behavior on the sphinx rendered scikit-learn.org. See: https://github.com/scikit-learn/scikit-learn/issues/21755 */display: inline-block !important;position: relative;}#sk-container-id-2 div.sk-text-repr-fallback {display: none;}</style><div id=\"sk-container-id-2\" class=\"sk-top-container\"><div class=\"sk-text-repr-fallback\"><pre>VotingClassifier(estimators=[(&#x27;decision tree&#x27;, DecisionTreeClassifier()),\n",
       "                             (&#x27;GaussianNB&#x27;, GaussianNB()),\n",
       "                             (&#x27;LogisticRegression&#x27;, LogisticRegression()),\n",
       "                             (&#x27;SVC&#x27;, SVC())])</pre><b>In a Jupyter environment, please rerun this cell to show the HTML representation or trust the notebook. <br />On GitHub, the HTML representation is unable to render, please try loading this page with nbviewer.org.</b></div><div class=\"sk-container\" hidden><div class=\"sk-item sk-dashed-wrapped\"><div class=\"sk-label-container\"><div class=\"sk-label sk-toggleable\"><input class=\"sk-toggleable__control sk-hidden--visually\" id=\"sk-estimator-id-6\" type=\"checkbox\" ><label for=\"sk-estimator-id-6\" class=\"sk-toggleable__label sk-toggleable__label-arrow\">VotingClassifier</label><div class=\"sk-toggleable__content\"><pre>VotingClassifier(estimators=[(&#x27;decision tree&#x27;, DecisionTreeClassifier()),\n",
       "                             (&#x27;GaussianNB&#x27;, GaussianNB()),\n",
       "                             (&#x27;LogisticRegression&#x27;, LogisticRegression()),\n",
       "                             (&#x27;SVC&#x27;, SVC())])</pre></div></div></div><div class=\"sk-parallel\"><div class=\"sk-parallel-item\"><div class=\"sk-item\"><div class=\"sk-label-container\"><div class=\"sk-label sk-toggleable\"><label>decision tree</label></div></div><div class=\"sk-serial\"><div class=\"sk-item\"><div class=\"sk-estimator sk-toggleable\"><input class=\"sk-toggleable__control sk-hidden--visually\" id=\"sk-estimator-id-7\" type=\"checkbox\" ><label for=\"sk-estimator-id-7\" class=\"sk-toggleable__label sk-toggleable__label-arrow\">DecisionTreeClassifier</label><div class=\"sk-toggleable__content\"><pre>DecisionTreeClassifier()</pre></div></div></div></div></div></div><div class=\"sk-parallel-item\"><div class=\"sk-item\"><div class=\"sk-label-container\"><div class=\"sk-label sk-toggleable\"><label>GaussianNB</label></div></div><div class=\"sk-serial\"><div class=\"sk-item\"><div class=\"sk-estimator sk-toggleable\"><input class=\"sk-toggleable__control sk-hidden--visually\" id=\"sk-estimator-id-8\" type=\"checkbox\" ><label for=\"sk-estimator-id-8\" class=\"sk-toggleable__label sk-toggleable__label-arrow\">GaussianNB</label><div class=\"sk-toggleable__content\"><pre>GaussianNB()</pre></div></div></div></div></div></div><div class=\"sk-parallel-item\"><div class=\"sk-item\"><div class=\"sk-label-container\"><div class=\"sk-label sk-toggleable\"><label>LogisticRegression</label></div></div><div class=\"sk-serial\"><div class=\"sk-item\"><div class=\"sk-estimator sk-toggleable\"><input class=\"sk-toggleable__control sk-hidden--visually\" id=\"sk-estimator-id-9\" type=\"checkbox\" ><label for=\"sk-estimator-id-9\" class=\"sk-toggleable__label sk-toggleable__label-arrow\">LogisticRegression</label><div class=\"sk-toggleable__content\"><pre>LogisticRegression()</pre></div></div></div></div></div></div><div class=\"sk-parallel-item\"><div class=\"sk-item\"><div class=\"sk-label-container\"><div class=\"sk-label sk-toggleable\"><label>SVC</label></div></div><div class=\"sk-serial\"><div class=\"sk-item\"><div class=\"sk-estimator sk-toggleable\"><input class=\"sk-toggleable__control sk-hidden--visually\" id=\"sk-estimator-id-10\" type=\"checkbox\" ><label for=\"sk-estimator-id-10\" class=\"sk-toggleable__label sk-toggleable__label-arrow\">SVC</label><div class=\"sk-toggleable__content\"><pre>SVC()</pre></div></div></div></div></div></div></div></div></div></div>"
      ],
      "text/plain": [
       "VotingClassifier(estimators=[('decision tree', DecisionTreeClassifier()),\n",
       "                             ('GaussianNB', GaussianNB()),\n",
       "                             ('LogisticRegression', LogisticRegression()),\n",
       "                             ('SVC', SVC())])"
      ]
     },
     "execution_count": 12,
     "metadata": {},
     "output_type": "execute_result"
    }
   ],
   "source": [
    "enseble_clf.fit(x_train,y_train)"
   ]
  },
  {
   "cell_type": "code",
   "execution_count": 13,
   "id": "3811acad",
   "metadata": {},
   "outputs": [],
   "source": [
    "y_pred = enseble_clf.predict(x_test)"
   ]
  },
  {
   "cell_type": "code",
   "execution_count": 14,
   "id": "57eef3e2",
   "metadata": {},
   "outputs": [
    {
     "data": {
      "text/plain": [
       "array([0, 0, 1, 0, 0, 1, 0, 1, 1, 0, 1, 1, 1, 1, 0, 0, 1, 1, 1, 1, 0, 1,\n",
       "       1, 0, 1, 0, 1, 0, 1, 1, 0, 1, 0, 0, 0, 1, 1, 1, 0, 1])"
      ]
     },
     "execution_count": 14,
     "metadata": {},
     "output_type": "execute_result"
    }
   ],
   "source": [
    "y_pred"
   ]
  },
  {
   "cell_type": "code",
   "execution_count": 15,
   "id": "f3c406c0",
   "metadata": {},
   "outputs": [
    {
     "data": {
      "text/plain": [
       "0.875"
      ]
     },
     "execution_count": 15,
     "metadata": {},
     "output_type": "execute_result"
    }
   ],
   "source": [
    "from sklearn.metrics import accuracy_score\n",
    "accuracy_score(y_test, y_pred)"
   ]
  },
  {
   "cell_type": "code",
   "execution_count": null,
   "id": "67cab64b",
   "metadata": {},
   "outputs": [],
   "source": []
  }
 ],
 "metadata": {
  "kernelspec": {
   "display_name": "Python 3 (ipykernel)",
   "language": "python",
   "name": "python3"
  },
  "language_info": {
   "codemirror_mode": {
    "name": "ipython",
    "version": 3
   },
   "file_extension": ".py",
   "mimetype": "text/x-python",
   "name": "python",
   "nbconvert_exporter": "python",
   "pygments_lexer": "ipython3",
   "version": "3.9.7"
  }
 },
 "nbformat": 4,
 "nbformat_minor": 5
}
